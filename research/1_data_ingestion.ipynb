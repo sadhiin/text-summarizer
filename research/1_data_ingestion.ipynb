{
 "cells": [
  {
   "cell_type": "markdown",
   "metadata": {},
   "source": [
    "# Data Ingestion Module"
   ]
  },
  {
   "cell_type": "code",
   "execution_count": 1,
   "metadata": {},
   "outputs": [
    {
     "name": "stdout",
     "output_type": "stream",
     "text": [
      "/teamspace/studios/this_studio/text-summarizer/research\n"
     ]
    }
   ],
   "source": [
    "import os\n",
    "!pwd"
   ]
  },
  {
   "cell_type": "code",
   "execution_count": 2,
   "metadata": {},
   "outputs": [
    {
     "name": "stdout",
     "output_type": "stream",
     "text": [
      "/teamspace/studios/this_studio/text-summarizer\n"
     ]
    }
   ],
   "source": [
    "os.chdir('../')\n",
    "!pwd"
   ]
  },
  {
   "cell_type": "markdown",
   "metadata": {},
   "source": [
    "### Basic Configuration"
   ]
  },
  {
   "cell_type": "code",
   "execution_count": 3,
   "metadata": {},
   "outputs": [],
   "source": [
    "from dataclasses import dataclass\n",
    "from pathlib import Path\n",
    "\n",
    "\n",
    "@dataclass\n",
    "class DataIngestionConfig:\n",
    "    root_dir: Path\n",
    "    source_uri: str\n",
    "    local_data_file: Path\n",
    "    unzip_dir: Path"
   ]
  },
  {
   "cell_type": "code",
   "execution_count": 4,
   "metadata": {},
   "outputs": [],
   "source": [
    "from src.textSummarizer.constants import CONFIG_FILE_PATH, PARAMS_FILE_PATH\n",
    "from src.textSummarizer.utils.common import read_yaml, create_directories"
   ]
  },
  {
   "cell_type": "markdown",
   "metadata": {},
   "source": [
    "### Configuration updates"
   ]
  },
  {
   "cell_type": "code",
   "execution_count": 5,
   "metadata": {},
   "outputs": [],
   "source": [
    "class CofigurationManager:\n",
    "    def __init__(self, config_path=CONFIG_FILE_PATH, params_filepath=PARAMS_FILE_PATH):\n",
    "        self.config = read_yaml(config_path)\n",
    "        self.params = read_yaml(params_filepath)\n",
    "\n",
    "        # create_directories([self.config.artifact_root])\n",
    "        os.makedirs(self.config.artifact_root, exist_ok=True)\n",
    "    \n",
    "    def get_data_ingestion_config(self) -> DataIngestionConfig:\n",
    "        try:\n",
    "            config = self.config.data_ingestion\n",
    "            \n",
    "            # Ensure that the root directory for data ingestion exists\n",
    "            # create_directories([config.root_dir])\n",
    "            os.makedirs(config.root_dir, exist_ok=True)\n",
    "            return DataIngestionConfig(\n",
    "                root_dir=config.root_dir,\n",
    "                source_uri=config.source_uri,\n",
    "                local_data_file=config.local_data_file,\n",
    "                unzip_dir=config.unzip_dir\n",
    "            )\n",
    "        except AttributeError as e:\n",
    "            logger.error(f\"Missing data ingestion configuration: {e}\")\n",
    "            return None\n",
    "        except Exception as e:\n",
    "            logger.error(f\"Error in creating DataIngestionConfig: {e}\")\n",
    "            return None\n"
   ]
  },
  {
   "cell_type": "code",
   "execution_count": 6,
   "metadata": {},
   "outputs": [],
   "source": [
    "import os\n",
    "import urllib.request as request\n",
    "import zipfile\n",
    "from src.textSummarizer.logging import create_logger"
   ]
  },
  {
   "cell_type": "markdown",
   "metadata": {},
   "source": [
    "### Components"
   ]
  },
  {
   "cell_type": "code",
   "execution_count": 7,
   "metadata": {},
   "outputs": [],
   "source": [
    "import os\n",
    "from urllib import request\n",
    "\n",
    "class DataIngestion:\n",
    "    def __init__(self, config: DataIngestionConfig):\n",
    "        self.config = config\n",
    "        self.logger = create_logger(__name__)\n",
    "        \n",
    "    def download_data(self):\n",
    "        try:\n",
    "            # Check if the directory exists\n",
    "            if not os.path.exists(self.config.local_data_file):\n",
    "                self.logger.info(f\"Creating the directory {self.config.local_data_file}\")\n",
    "                os.makedirs(self.config.local_data_file)\n",
    "\n",
    "            # Define the file path where the data will be saved\n",
    "            zip_file_path = os.path.join(self.config.local_data_file, \"summarizer-data.zip\")  # Specify the file name\n",
    "\n",
    "            if not os.path.exists(zip_file_path):  # Check if the file already exists\n",
    "                self.logger.info(f\"Downloading data from {self.config.source_uri}\")\n",
    "                filename, headers = request.urlretrieve(\n",
    "                    url=self.config.source_uri, \n",
    "                    filename=zip_file_path)  # Use the full path with the file name\n",
    "            else:\n",
    "                self.logger.info(f\"File {zip_file_path} already exists\")\n",
    "            \n",
    "        except Exception as e:\n",
    "            self.logger.error(f\"Error downloading data from {self.config.source_uri}\")\n",
    "            self.logger.error(e)\n",
    "            raise e\n",
    "    \n",
    "    def extract_zip_file(self):\n",
    "        try:\n",
    "            # Ensure the extraction directory exists\n",
    "            os.makedirs(self.config.unzip_dir, exist_ok=True)\n",
    "            \n",
    "            # Specify the correct file path for the downloaded zip file\n",
    "            zip_file_path = os.path.join(self.config.local_data_file, \"summarizer-data.zip\")  # Correct zip file path\n",
    "\n",
    "            # Use the correct file path to extract the zip file\n",
    "            with zipfile.ZipFile(zip_file_path, 'r') as zip_ref:\n",
    "                zip_ref.extractall(self.config.unzip_dir)\n",
    "            self.logger.info(f\"Extracting zip file to {self.config.unzip_dir}\")\n",
    "        except Exception as e:\n",
    "            self.logger.error(f\"Error extracting zip file to {self.config.unzip_dir}\")\n",
    "            self.logger.error(e)\n",
    "            raise e\n"
   ]
  },
  {
   "cell_type": "code",
   "execution_count": 8,
   "metadata": {},
   "outputs": [
    {
     "name": "stderr",
     "output_type": "stream",
     "text": [
      "2025-02-07 18:25:27,959 - __main__ - INFO - 2573542362.py - 25 - File artifacts/data_ingestion/summarizer-data.zip/summarizer-data.zip already exists\n",
      "2025-02-07 18:25:28,091 - __main__ - INFO - 2573542362.py - 43 - Extracting zip file to artifacts/data_ingestion\n"
     ]
    }
   ],
   "source": [
    "config = CofigurationManager()\n",
    "\n",
    "data_ingestion_config = config.get_data_ingestion_config()\n",
    "\n",
    "data_ingestion = DataIngestion(data_ingestion_config)\n",
    "\n",
    "data_ingestion.download_data()\n",
    "data_ingestion.extract_zip_file()"
   ]
  },
  {
   "cell_type": "code",
   "execution_count": null,
   "metadata": {},
   "outputs": [],
   "source": []
  },
  {
   "cell_type": "code",
   "execution_count": null,
   "metadata": {},
   "outputs": [],
   "source": []
  },
  {
   "cell_type": "code",
   "execution_count": null,
   "metadata": {},
   "outputs": [],
   "source": []
  },
  {
   "cell_type": "code",
   "execution_count": null,
   "metadata": {},
   "outputs": [],
   "source": []
  },
  {
   "cell_type": "code",
   "execution_count": null,
   "metadata": {},
   "outputs": [],
   "source": []
  },
  {
   "cell_type": "code",
   "execution_count": null,
   "metadata": {},
   "outputs": [],
   "source": []
  },
  {
   "cell_type": "code",
   "execution_count": null,
   "metadata": {},
   "outputs": [],
   "source": []
  },
  {
   "cell_type": "code",
   "execution_count": null,
   "metadata": {},
   "outputs": [],
   "source": []
  },
  {
   "cell_type": "code",
   "execution_count": null,
   "metadata": {},
   "outputs": [],
   "source": []
  }
 ],
 "metadata": {
  "language_info": {
   "name": "python"
  }
 },
 "nbformat": 4,
 "nbformat_minor": 2
}
