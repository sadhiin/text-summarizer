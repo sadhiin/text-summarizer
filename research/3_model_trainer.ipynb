{
 "cells": [
  {
   "cell_type": "code",
   "execution_count": 1,
   "metadata": {},
   "outputs": [
    {
     "data": {
      "text/plain": [
       "'/teamspace/studios/this_studio/text-summarizer/research'"
      ]
     },
     "execution_count": 1,
     "metadata": {},
     "output_type": "execute_result"
    }
   ],
   "source": [
    "import os\n",
    "os.getcwd()"
   ]
  },
  {
   "cell_type": "code",
   "execution_count": 2,
   "metadata": {},
   "outputs": [
    {
     "data": {
      "text/plain": [
       "'/teamspace/studios/this_studio/text-summarizer'"
      ]
     },
     "execution_count": 2,
     "metadata": {},
     "output_type": "execute_result"
    }
   ],
   "source": [
    "os.chdir('../')\n",
    "os.getcwd()"
   ]
  },
  {
   "cell_type": "code",
   "execution_count": 3,
   "metadata": {},
   "outputs": [],
   "source": [
    "from rich import print"
   ]
  },
  {
   "cell_type": "code",
   "execution_count": 4,
   "metadata": {},
   "outputs": [],
   "source": [
    "from dataclasses import dataclass\n",
    "from pathlib import Path\n",
    "\n",
    "@dataclass\n",
    "class ModelTrainerConfig:\n",
    "    root_dir: Path\n",
    "    data_path: Path\n",
    "    model_ckpt: str\n",
    "    output_dir: Path\n",
    "    num_train_epochs: int\n",
    "    warmup_steps: int\n",
    "    per_device_train_batch_size: int\n",
    "    per_device_eval_batch_size: int\n",
    "    logging_dir: Path\n",
    "    weight_decay: float\n",
    "    logging_steps: int\n",
    "    evaluation_strategy: str\n",
    "    eval_steps: int\n",
    "    save_steps: int\n",
    "    gradient_accumulation_steps: int"
   ]
  },
  {
   "cell_type": "code",
   "execution_count": 5,
   "metadata": {},
   "outputs": [],
   "source": [
    "from src.textSummarizer.constants import *\n",
    "from src.textSummarizer.utils import read_yaml, create_directories"
   ]
  },
  {
   "cell_type": "code",
   "execution_count": 6,
   "metadata": {},
   "outputs": [],
   "source": [
    "class ConfigurationManager:\n",
    "    def __init__(self,\n",
    "                 config_filepath= CONFIG_FILE_PATH,\n",
    "                 params_filepath=PARAMS_FILE_PATH):\n",
    "        self.config = read_yaml(config_filepath)\n",
    "        self.params = read_yaml(params_filepath)\n",
    "        \n",
    "        os.makedirs(self.config.artifact_root, exist_ok=True)\n",
    "        \n",
    "        # print(\"Config: \", self.config)\n",
    "        \n",
    "    def get_model_trainer_config(self)-> ModelTrainerConfig:\n",
    "        config = self.config.model_trainer\n",
    "        params = self.params.TrainingArguments\n",
    "        \n",
    "        os.makedirs(config.root_dir, exist_ok=True)\n",
    "        print(f\"Config from Configmanager: {config}\")\n",
    "        \n",
    "        return ModelTrainerConfig(\n",
    "            root_dir = config.root_dir,\n",
    "            data_path = config.data_path,\n",
    "            model_ckpt = config.model_ckpt,\n",
    "            output_dir = params.output_dir,\n",
    "            num_train_epochs = params.num_train_epochs,\n",
    "            warmup_steps = params.warmup_steps,\n",
    "            per_device_train_batch_size = params.per_device_train_batch_size,\n",
    "            per_device_eval_batch_size = params.per_device_eval_batch_size,\n",
    "            logging_dir = params.logging_dir,\n",
    "            weight_decay = params.weight_decay,\n",
    "            logging_steps = params.logging_steps,\n",
    "            evaluation_strategy = params.evaluation_strategy,\n",
    "            eval_steps = params.eval_steps,\n",
    "            save_steps = params.save_steps,\n",
    "            gradient_accumulation_steps = params.gradient_accumulation_steps\n",
    "        )"
   ]
  },
  {
   "cell_type": "code",
   "execution_count": 7,
   "metadata": {},
   "outputs": [],
   "source": [
    "# !pip install --upgrade pip\n",
    "# !pip uninstall torchvision -qy\n",
    "# !pip install torchvision -q\n",
    "# !pip install -U transformers accelerate -q"
   ]
  },
  {
   "cell_type": "code",
   "execution_count": 8,
   "metadata": {},
   "outputs": [
    {
     "data": {
      "text/html": [
       "<pre style=\"white-space:pre;overflow-x:auto;line-height:normal;font-family:Menlo,'DejaVu Sans Mono',consolas,'Courier New',monospace\"><span style=\"color: #008080; text-decoration-color: #008080; font-weight: bold\">2.6</span>.<span style=\"color: #008080; text-decoration-color: #008080; font-weight: bold\">0</span>+cu124\n",
       "</pre>\n"
      ],
      "text/plain": [
       "\u001b[1;36m2.6\u001b[0m.\u001b[1;36m0\u001b[0m+cu124\n"
      ]
     },
     "metadata": {},
     "output_type": "display_data"
    },
    {
     "data": {
      "text/html": [
       "<pre style=\"white-space:pre;overflow-x:auto;line-height:normal;font-family:Menlo,'DejaVu Sans Mono',consolas,'Courier New',monospace\"><span style=\"color: #008080; text-decoration-color: #008080; font-weight: bold\">0.21</span>.<span style=\"color: #008080; text-decoration-color: #008080; font-weight: bold\">0</span>+cu124\n",
       "</pre>\n"
      ],
      "text/plain": [
       "\u001b[1;36m0.21\u001b[0m.\u001b[1;36m0\u001b[0m+cu124\n"
      ]
     },
     "metadata": {},
     "output_type": "display_data"
    }
   ],
   "source": [
    "import torch\n",
    "import torchvision\n",
    "print(torch.__version__)\n",
    "print(torchvision.__version__)\n",
    "\n",
    "from transformers import AutoModelForSeq2SeqLM, AutoTokenizer, TrainingArguments, Trainer\n",
    "from transformers import DataCollatorForSeq2Seq\n",
    "from datasets import load_from_disk"
   ]
  },
  {
   "cell_type": "code",
   "execution_count": 12,
   "metadata": {},
   "outputs": [],
   "source": [
    "class ModelTrainer:\n",
    "    def __init__(self, config: ModelTrainerConfig):\n",
    "        self.config = config\n",
    "        print(f\"Config from ModelTrainer: {config}\")\n",
    "    def start_training(self):\n",
    "        device = \"cuda\" if torch.cuda.is_available() else \"cpu\"\n",
    "        # print(self.config.model_ckpt)\n",
    "        model = AutoModelForSeq2SeqLM.from_pretrained(self.config.model_ckpt)\n",
    "        tokenizer = AutoTokenizer.from_pretrained(self.config.model_ckpt)\n",
    "        data_collator = DataCollatorForSeq2Seq(tokenizer=tokenizer, padding=True)\n",
    "        \n",
    "        dataset_samsum_pt = load_from_disk(self.config.data_path)\n",
    "        \n",
    "        training_args = TrainingArguments(\n",
    "            output_dir = self.config.output_dir,\n",
    "            num_train_epochs = self.config.num_train_epochs,\n",
    "            per_device_train_batch_size = self.config.per_device_train_batch_size,\n",
    "            per_device_eval_batch_size = self.config.per_device_eval_batch_size,\n",
    "            logging_dir = self.config.logging_dir,\n",
    "            logging_steps = self.config.logging_steps,\n",
    "            evaluation_strategy = self.config.evaluation_strategy,\n",
    "            eval_steps = self.config.eval_steps,\n",
    "            save_steps = self.config.save_steps,\n",
    "            gradient_accumulation_steps = self.config.gradient_accumulation_steps,\n",
    "            warmup_steps = self.config.warmup_steps,\n",
    "            weight_decay = self.config.weight_decay\n",
    "        )\n",
    "        \n",
    "        trainer = Trainer(\n",
    "            model = model,\n",
    "            args = training_args,\n",
    "            data_collator = data_collator,\n",
    "            train_dataset = dataset_samsum_pt['test'],\n",
    "            eval_dataset = dataset_samsum_pt['validation']\n",
    "        )\n",
    "        \n",
    "        trainer.train()\n",
    "        \n",
    "        model.save_pretrained(os.path.join(self.config.root_dir, \"trained-pegausus-model\"))\n",
    "        tokenizer.save_pretrained(os.path.join(self.config.root_dir, \"trained-pegausus-tokenizer\"))"
   ]
  },
  {
   "cell_type": "code",
   "execution_count": 13,
   "metadata": {},
   "outputs": [
    {
     "data": {
      "text/html": [
       "<pre style=\"white-space:pre;overflow-x:auto;line-height:normal;font-family:Menlo,'DejaVu Sans Mono',consolas,'Courier New',monospace\">Config from Configmanager: <span style=\"font-weight: bold\">{</span><span style=\"color: #008000; text-decoration-color: #008000\">'root_dir'</span>: <span style=\"color: #008000; text-decoration-color: #008000\">'artifacts/model_trainer'</span>, <span style=\"color: #008000; text-decoration-color: #008000\">'data_path'</span>: \n",
       "<span style=\"color: #008000; text-decoration-color: #008000\">'artifacts/data_transformation/samsum_dataset'</span>, <span style=\"color: #008000; text-decoration-color: #008000\">'model_ckpt'</span>: <span style=\"color: #008000; text-decoration-color: #008000\">'google/pegasus-cnn_dailymail'</span><span style=\"font-weight: bold\">}</span>\n",
       "</pre>\n"
      ],
      "text/plain": [
       "Config from Configmanager: \u001b[1m{\u001b[0m\u001b[32m'root_dir'\u001b[0m: \u001b[32m'artifacts/model_trainer'\u001b[0m, \u001b[32m'data_path'\u001b[0m: \n",
       "\u001b[32m'artifacts/data_transformation/samsum_dataset'\u001b[0m, \u001b[32m'model_ckpt'\u001b[0m: \u001b[32m'google/pegasus-cnn_dailymail'\u001b[0m\u001b[1m}\u001b[0m\n"
      ]
     },
     "metadata": {},
     "output_type": "display_data"
    },
    {
     "data": {
      "text/html": [
       "<pre style=\"white-space:pre;overflow-x:auto;line-height:normal;font-family:Menlo,'DejaVu Sans Mono',consolas,'Courier New',monospace\">Config from ModelTrainer: <span style=\"color: #800080; text-decoration-color: #800080; font-weight: bold\">ModelTrainerConfig</span><span style=\"font-weight: bold\">(</span><span style=\"color: #808000; text-decoration-color: #808000\">root_dir</span>=<span style=\"color: #008000; text-decoration-color: #008000\">'artifacts/model_trainer'</span>, \n",
       "<span style=\"color: #808000; text-decoration-color: #808000\">data_path</span>=<span style=\"color: #008000; text-decoration-color: #008000\">'artifacts/data_transformation/samsum_dataset'</span>, <span style=\"color: #808000; text-decoration-color: #808000\">model_ckpt</span>=<span style=\"color: #008000; text-decoration-color: #008000\">'google/pegasus-cnn_dailymail'</span>, \n",
       "<span style=\"color: #808000; text-decoration-color: #808000\">output_dir</span>=<span style=\"color: #008000; text-decoration-color: #008000\">'pegasus_samsum'</span>, <span style=\"color: #808000; text-decoration-color: #808000\">num_train_epochs</span>=<span style=\"color: #008080; text-decoration-color: #008080; font-weight: bold\">2</span>, <span style=\"color: #808000; text-decoration-color: #808000\">warmup_steps</span>=<span style=\"color: #008080; text-decoration-color: #008080; font-weight: bold\">500</span>, <span style=\"color: #808000; text-decoration-color: #808000\">per_device_train_batch_size</span>=<span style=\"color: #008080; text-decoration-color: #008080; font-weight: bold\">1</span>, \n",
       "<span style=\"color: #808000; text-decoration-color: #808000\">per_device_eval_batch_size</span>=<span style=\"color: #008080; text-decoration-color: #008080; font-weight: bold\">1</span>, <span style=\"color: #808000; text-decoration-color: #808000\">logging_dir</span>=<span style=\"color: #008000; text-decoration-color: #008000\">'./logs'</span>, <span style=\"color: #808000; text-decoration-color: #808000\">weight_decay</span>=<span style=\"color: #008080; text-decoration-color: #008080; font-weight: bold\">0.01</span>, <span style=\"color: #808000; text-decoration-color: #808000\">logging_steps</span>=<span style=\"color: #008080; text-decoration-color: #008080; font-weight: bold\">10</span>, \n",
       "<span style=\"color: #808000; text-decoration-color: #808000\">evaluation_strategy</span>=<span style=\"color: #008000; text-decoration-color: #008000\">'steps'</span>, <span style=\"color: #808000; text-decoration-color: #808000\">eval_steps</span>=<span style=\"color: #008080; text-decoration-color: #008080; font-weight: bold\">500</span>, <span style=\"color: #808000; text-decoration-color: #808000\">save_steps</span>=<span style=\"color: #008080; text-decoration-color: #008080; font-weight: bold\">999</span>, <span style=\"color: #808000; text-decoration-color: #808000\">gradient_accumulation_steps</span>=<span style=\"color: #008080; text-decoration-color: #008080; font-weight: bold\">16</span><span style=\"font-weight: bold\">)</span>\n",
       "</pre>\n"
      ],
      "text/plain": [
       "Config from ModelTrainer: \u001b[1;35mModelTrainerConfig\u001b[0m\u001b[1m(\u001b[0m\u001b[33mroot_dir\u001b[0m=\u001b[32m'artifacts/model_trainer'\u001b[0m, \n",
       "\u001b[33mdata_path\u001b[0m=\u001b[32m'artifacts/data_transformation/samsum_dataset'\u001b[0m, \u001b[33mmodel_ckpt\u001b[0m=\u001b[32m'google/pegasus-cnn_dailymail'\u001b[0m, \n",
       "\u001b[33moutput_dir\u001b[0m=\u001b[32m'pegasus_samsum'\u001b[0m, \u001b[33mnum_train_epochs\u001b[0m=\u001b[1;36m2\u001b[0m, \u001b[33mwarmup_steps\u001b[0m=\u001b[1;36m500\u001b[0m, \u001b[33mper_device_train_batch_size\u001b[0m=\u001b[1;36m1\u001b[0m, \n",
       "\u001b[33mper_device_eval_batch_size\u001b[0m=\u001b[1;36m1\u001b[0m, \u001b[33mlogging_dir\u001b[0m=\u001b[32m'./logs'\u001b[0m, \u001b[33mweight_decay\u001b[0m=\u001b[1;36m0\u001b[0m\u001b[1;36m.01\u001b[0m, \u001b[33mlogging_steps\u001b[0m=\u001b[1;36m10\u001b[0m, \n",
       "\u001b[33mevaluation_strategy\u001b[0m=\u001b[32m'steps'\u001b[0m, \u001b[33meval_steps\u001b[0m=\u001b[1;36m500\u001b[0m, \u001b[33msave_steps\u001b[0m=\u001b[1;36m999\u001b[0m, \u001b[33mgradient_accumulation_steps\u001b[0m=\u001b[1;36m16\u001b[0m\u001b[1m)\u001b[0m\n"
      ]
     },
     "metadata": {},
     "output_type": "display_data"
    },
    {
     "name": "stderr",
     "output_type": "stream",
     "text": [
      "Some weights of PegasusForConditionalGeneration were not initialized from the model checkpoint at google/pegasus-cnn_dailymail and are newly initialized: ['model.decoder.embed_positions.weight', 'model.encoder.embed_positions.weight']\n",
      "You should probably TRAIN this model on a down-stream task to be able to use it for predictions and inference.\n",
      "/home/zeus/miniconda3/envs/cloudspace/lib/python3.10/site-packages/transformers/training_args.py:1575: FutureWarning: `evaluation_strategy` is deprecated and will be removed in version 4.46 of 🤗 Transformers. Use `eval_strategy` instead\n",
      "  warnings.warn(\n"
     ]
    },
    {
     "data": {
      "text/html": [
       "\n",
       "    <div>\n",
       "      \n",
       "      <progress value='102' max='102' style='width:300px; height:20px; vertical-align: middle;'></progress>\n",
       "      [102/102 16:12, Epoch 1/2]\n",
       "    </div>\n",
       "    <table border=\"1\" class=\"dataframe\">\n",
       "  <thead>\n",
       " <tr style=\"text-align: left;\">\n",
       "      <th>Step</th>\n",
       "      <th>Training Loss</th>\n",
       "      <th>Validation Loss</th>\n",
       "    </tr>\n",
       "  </thead>\n",
       "  <tbody>\n",
       "  </tbody>\n",
       "</table><p>"
      ],
      "text/plain": [
       "<IPython.core.display.HTML object>"
      ]
     },
     "metadata": {},
     "output_type": "display_data"
    },
    {
     "name": "stderr",
     "output_type": "stream",
     "text": [
      "/home/zeus/miniconda3/envs/cloudspace/lib/python3.10/site-packages/transformers/modeling_utils.py:2758: UserWarning: Moving the following attributes in the config to the generation config: {'max_length': 128, 'min_length': 32, 'num_beams': 8, 'length_penalty': 0.8}. You are seeing this warning because you've set generation parameters in the model config, as opposed to in the generation config.\n",
      "  warnings.warn(\n"
     ]
    }
   ],
   "source": [
    "%%time\n",
    "config = ConfigurationManager()\n",
    "model_trainer_config = config.get_model_trainer_config()\n",
    "# print(f\"Model Trainer Config: {model_trainer_config}\")\n",
    "model_trainer = ModelTrainer(model_trainer_config)\n",
    "model_trainer.start_training()"
   ]
  },
  {
   "cell_type": "code",
   "execution_count": null,
   "metadata": {},
   "outputs": [],
   "source": []
  },
  {
   "cell_type": "code",
   "execution_count": null,
   "metadata": {},
   "outputs": [],
   "source": []
  },
  {
   "cell_type": "code",
   "execution_count": null,
   "metadata": {},
   "outputs": [],
   "source": []
  }
 ],
 "metadata": {
  "language_info": {
   "name": "python"
  }
 },
 "nbformat": 4,
 "nbformat_minor": 2
}
